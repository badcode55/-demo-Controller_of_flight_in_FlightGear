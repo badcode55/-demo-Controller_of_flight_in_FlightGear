{
 "cells": [
  {
   "cell_type": "code",
   "execution_count": null,
   "metadata": {},
   "outputs": [],
   "source": [
    "\n",
    "import pandas as pd\n"
   ]
  },
  {
   "cell_type": "code",
   "execution_count": null,
   "metadata": {},
   "outputs": [],
   "source": [
    "\n",
    "df = pd.read_csv(\"./simpledata.csv\")\n",
    "\n"
   ]
  },
  {
   "cell_type": "code",
   "execution_count": 16,
   "metadata": {},
   "outputs": [
    {
     "name": "stdout",
     "output_type": "stream",
     "text": [
      "RangeIndex(start=0, stop=183, step=1)\n",
      "32\n"
     ]
    }
   ],
   "source": [
    "index_num=df.index\n",
    "print(index_num)\n",
    "l=df.shape[1]\n",
    "print(l)"
   ]
  },
  {
   "cell_type": "code",
   "execution_count": 17,
   "metadata": {},
   "outputs": [
    {
     "name": "stdout",
     "output_type": "stream",
     "text": [
      "     aileron  elevator  rudder  throttle0  throttle1\n",
      "0        0.0       0.0       0        0.0          0\n",
      "1        0.0       0.0       0        0.0          0\n",
      "2        0.0       0.0       0        0.0          0\n",
      "3        0.0       0.0       0        0.0          0\n",
      "4        0.0       0.0       0        0.0          0\n",
      "..       ...       ...     ...        ...        ...\n",
      "178      0.2      -1.0       0        1.0          0\n",
      "179      0.2      -1.0       0        1.0          0\n",
      "180      0.2      -1.0       0        1.0          0\n",
      "181      0.2      -1.0       0        1.0          0\n",
      "182      0.2      -1.0       0        1.0          0\n",
      "\n",
      "[183 rows x 5 columns]\n"
     ]
    }
   ],
   "source": [
    "cols_5data=df[['aileron','elevator','rudder','throttle0','throttle1']]\n",
    "cols_5data.astype(str)"
   ]
  }
 ],
 "metadata": {
  "interpreter": {
   "hash": "ca36fb0d313bf93f970ecbe95f872b7ca69cb24bb53c5d46b21d82edab108fe8"
  },
  "kernelspec": {
   "display_name": "Python 3.9.7 ('base')",
   "language": "python",
   "name": "python3"
  },
  "language_info": {
   "codemirror_mode": {
    "name": "ipython",
    "version": 3
   },
   "file_extension": ".py",
   "mimetype": "text/x-python",
   "name": "python",
   "nbconvert_exporter": "python",
   "pygments_lexer": "ipython3",
   "version": "3.9.7"
  },
  "orig_nbformat": 4
 },
 "nbformat": 4,
 "nbformat_minor": 2
}
